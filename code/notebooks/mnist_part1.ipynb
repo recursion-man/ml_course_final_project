{
 "cells": [
  {
   "cell_type": "code",
   "execution_count": null,
   "metadata": {},
   "outputs": [],
   "source": [
    "import torch\n",
    "from torch.utils.data import DataLoader\n",
    "from torchvision import datasets, transforms\n",
    "import sys\n",
    "sys.path.append('..')\n",
    "from models.mnist_autoencoder import MNISTAutoencoder\n",
    "from trainers.autoencoder_trainer import AutoencoderTrainer"
   ]
  },
  {
   "cell_type": "code",
   "execution_count": 20,
   "metadata": {},
   "outputs": [],
   "source": [
    "import importlib\n",
    "import models.mnist_autoencoder\n",
    "import trainers.autoencoder_trainer\n",
    "# importlib.reload(models.mnist_autoencoder)  \n",
    "# importlib.reload(trainers.autoencoder_trainer)"
   ]
  },
  {
   "cell_type": "code",
   "execution_count": 2,
   "metadata": {},
   "outputs": [],
   "source": [
    "transform = transforms.Compose([\n",
    "    transforms.ToTensor()\n",
    "])\n",
    "train_dataset = datasets.MNIST(root='data', train=True, download=True, transform=transform)\n",
    "val_dataset   = datasets.MNIST(root='data', train=False, download=True, transform=transform)\n",
    "\n",
    "train_loader = DataLoader(train_dataset, batch_size=64, shuffle=True)\n",
    "val_loader   = DataLoader(val_dataset, batch_size=64, shuffle=False)"
   ]
  },
  {
   "cell_type": "code",
   "execution_count": 3,
   "metadata": {},
   "outputs": [
    {
     "data": {
      "image/png": "[encoded data removed]",
      "text/plain": [
       "<Figure size 640x480 with 1 Axes>"
      ]
     },
     "metadata": {},
     "output_type": "display_data"
    }
   ],
   "source": [
    "\n",
    "images, labels = next(iter(train_loader))\n",
    "single_image = images[0]  \n",
    "single_label = labels[0]  \n",
    "import matplotlib.pyplot as plt\n",
    "plt.imshow(single_image.squeeze(0), cmap=\"gray\")  \n",
    "plt.title(f\"Label: {single_label.item()}\")\n",
    "plt.show()"
   ]
  },
  {
   "cell_type": "code",
   "execution_count": 4,
   "metadata": {},
   "outputs": [
    {
     "name": "stdout",
     "output_type": "stream",
     "text": [
      "MNISTAutoencoder(\n",
      "  (encoder): Encoder(\n",
      "    (conv): Sequential(\n",
      "      (0): Conv2d(1, 32, kernel_size=(3, 3), stride=(2, 2), padding=(1, 1))\n",
      "      (1): ReLU(inplace=True)\n",
      "      (2): Conv2d(32, 64, kernel_size=(3, 3), stride=(2, 2), padding=(1, 1))\n",
      "      (3): ReLU(inplace=True)\n",
      "    )\n",
      "    (fc): Linear(in_features=3136, out_features=128, bias=True)\n",
      "  )\n",
      "  (decoder): Decoder(\n",
      "    (fc): Linear(in_features=128, out_features=3136, bias=True)\n",
      "    (deconv): Sequential(\n",
      "      (0): ConvTranspose2d(64, 32, kernel_size=(3, 3), stride=(2, 2), padding=(1, 1), output_padding=(1, 1))\n",
      "      (1): ReLU(inplace=True)\n",
      "      (2): ConvTranspose2d(32, 1, kernel_size=(3, 3), stride=(2, 2), padding=(1, 1), output_padding=(1, 1))\n",
      "    )\n",
      "    (out_activation): Sigmoid()\n",
      "  )\n",
      ")\n"
     ]
    }
   ],
   "source": [
    "autoencoder = MNISTAutoencoder(latent_dim=128)\n",
    "print(autoencoder)"
   ]
  },
  {
   "cell_type": "code",
   "execution_count": 5,
   "metadata": {},
   "outputs": [
    {
     "name": "stdout",
     "output_type": "stream",
     "text": [
      "Epoch [1] - Train Loss: 0.0138\n",
      "Epoch [1] - Val   Loss: 0.0032\n",
      "Checkpoint saved to autoencoder_checkpoint.pth\n",
      "Epoch [2] - Train Loss: 0.0026\n",
      "Epoch [2] - Val   Loss: 0.0021\n",
      "Checkpoint saved to autoencoder_checkpoint.pth\n",
      "Epoch [3] - Train Loss: 0.0019\n",
      "Epoch [3] - Val   Loss: 0.0017\n",
      "Checkpoint saved to autoencoder_checkpoint.pth\n",
      "Epoch [4] - Train Loss: 0.0016\n",
      "Epoch [4] - Val   Loss: 0.0015\n",
      "Checkpoint saved to autoencoder_checkpoint.pth\n",
      "Epoch [5] - Train Loss: 0.0014\n",
      "Epoch [5] - Val   Loss: 0.0013\n",
      "Checkpoint saved to autoencoder_checkpoint.pth\n",
      "Epoch [6] - Train Loss: 0.0013\n",
      "Epoch [6] - Val   Loss: 0.0012\n",
      "Checkpoint saved to autoencoder_checkpoint.pth\n",
      "Epoch [7] - Train Loss: 0.0012\n",
      "Epoch [7] - Val   Loss: 0.0011\n",
      "Checkpoint saved to autoencoder_checkpoint.pth\n",
      "Epoch [8] - Train Loss: 0.0011\n",
      "Epoch [8] - Val   Loss: 0.0011\n",
      "Checkpoint saved to autoencoder_checkpoint.pth\n",
      "Epoch [9] - Train Loss: 0.0010\n",
      "Epoch [9] - Val   Loss: 0.0011\n",
      "Checkpoint saved to autoencoder_checkpoint.pth\n",
      "Epoch [10] - Train Loss: 0.0010\n",
      "Epoch [10] - Val   Loss: 0.0010\n",
      "Checkpoint saved to autoencoder_checkpoint.pth\n"
     ]
    }
   ],
   "source": [
    "trainer = AutoencoderTrainer(\n",
    "    model=autoencoder,\n",
    "    train_loader=train_loader,\n",
    "    val_loader=val_loader,\n",
    "    device='cuda',\n",
    "    lr=1e-3,\n",
    "    num_epochs=10,\n",
    "    save_path='autoencoder_checkpoint.pth',\n",
    "    resume_path=None  # start from scratch\n",
    ")\n",
    "trainer.train()\n"
   ]
  },
  {
   "cell_type": "code",
   "execution_count": 6,
   "metadata": {},
   "outputs": [
    {
     "name": "stdout",
     "output_type": "stream",
     "text": [
      "Resuming training from checkpoint: autoencoder_checkpoint.pth\n",
      "Resumed at epoch 11\n",
      "Epoch [11] - Train Loss: 0.0010\n",
      "Epoch [11] - Val   Loss: 0.0010\n",
      "Checkpoint saved to autoencoder_checkpoint.pth\n",
      "Epoch [12] - Train Loss: 0.0009\n",
      "Epoch [12] - Val   Loss: 0.0009\n",
      "Checkpoint saved to autoencoder_checkpoint.pth\n",
      "Epoch [13] - Train Loss: 0.0009\n",
      "Epoch [13] - Val   Loss: 0.0009\n",
      "Checkpoint saved to autoencoder_checkpoint.pth\n",
      "Epoch [14] - Train Loss: 0.0009\n",
      "Epoch [14] - Val   Loss: 0.0009\n",
      "Checkpoint saved to autoencoder_checkpoint.pth\n",
      "Epoch [15] - Train Loss: 0.0008\n",
      "Epoch [15] - Val   Loss: 0.0009\n",
      "Checkpoint saved to autoencoder_checkpoint.pth\n",
      "Epoch [16] - Train Loss: 0.0008\n",
      "Epoch [16] - Val   Loss: 0.0009\n",
      "Checkpoint saved to autoencoder_checkpoint.pth\n",
      "Epoch [17] - Train Loss: 0.0008\n",
      "Epoch [17] - Val   Loss: 0.0009\n",
      "Checkpoint saved to autoencoder_checkpoint.pth\n",
      "Epoch [18] - Train Loss: 0.0008\n",
      "Epoch [18] - Val   Loss: 0.0009\n",
      "Checkpoint saved to autoencoder_checkpoint.pth\n",
      "Epoch [19] - Train Loss: 0.0008\n",
      "Epoch [19] - Val   Loss: 0.0008\n",
      "Checkpoint saved to autoencoder_checkpoint.pth\n",
      "Epoch [20] - Train Loss: 0.0008\n",
      "Epoch [20] - Val   Loss: 0.0008\n",
      "Checkpoint saved to autoencoder_checkpoint.pth\n"
     ]
    }
   ],
   "source": [
    "autoencoder_2 = MNISTAutoencoder(latent_dim=128)\n",
    "\n",
    "trainer2 = AutoencoderTrainer(\n",
    "    model=autoencoder_2,\n",
    "    train_loader=train_loader,\n",
    "    val_loader=val_loader,\n",
    "    device='cuda',\n",
    "    lr=1e-3,\n",
    "    num_epochs=10,                      # train 10 more epochs\n",
    "    save_path='autoencoder_checkpoint.pth',\n",
    "    resume_path='autoencoder_checkpoint.pth'  # resume from the last checkpoint\n",
    ")\n",
    "trainer2.train()  "
   ]
  },
  {
   "cell_type": "code",
   "execution_count": 9,
   "metadata": {},
   "outputs": [],
   "source": [
    "from models.mnist_calssifier import MNISTClassifier\n",
    "from trainers.classifier_trainer import ClassifierTrainer"
   ]
  },
  {
   "cell_type": "code",
   "execution_count": 10,
   "metadata": {},
   "outputs": [],
   "source": [
    "classifier = MNISTClassifier(latent_dim=128, num_classes=10)\n"
   ]
  },
  {
   "cell_type": "code",
   "execution_count": 12,
   "metadata": {},
   "outputs": [
    {
     "name": "stdout",
     "output_type": "stream",
     "text": [
      "MNISTClassifier(\n",
      "  (net): Sequential(\n",
      "    (0): Linear(in_features=128, out_features=64, bias=True)\n",
      "    (1): ReLU()\n",
      "    (2): Linear(in_features=64, out_features=10, bias=True)\n",
      "  )\n",
      ")\n"
     ]
    }
   ],
   "source": [
    "print(classifier)"
   ]
  },
  {
   "cell_type": "code",
   "execution_count": 11,
   "metadata": {},
   "outputs": [
    {
     "name": "stdout",
     "output_type": "stream",
     "text": [
      "Epoch [1] - Train Loss: 0.3913, Train Acc: 0.8937\n",
      "Epoch [1] - Val   Loss: 0.1992, Val   Acc: 0.9413\n",
      "Checkpoint saved to classifier_checkpoint.pth\n",
      "Epoch [2] - Train Loss: 0.1724, Train Acc: 0.9506\n",
      "Epoch [2] - Val   Loss: 0.1417, Val   Acc: 0.9581\n",
      "Checkpoint saved to classifier_checkpoint.pth\n",
      "Epoch [3] - Train Loss: 0.1250, Train Acc: 0.9642\n",
      "Epoch [3] - Val   Loss: 0.1123, Val   Acc: 0.9662\n",
      "Checkpoint saved to classifier_checkpoint.pth\n",
      "Epoch [4] - Train Loss: 0.0977, Train Acc: 0.9721\n",
      "Epoch [4] - Val   Loss: 0.1008, Val   Acc: 0.9701\n",
      "Checkpoint saved to classifier_checkpoint.pth\n",
      "Epoch [5] - Train Loss: 0.0807, Train Acc: 0.9766\n",
      "Epoch [5] - Val   Loss: 0.0884, Val   Acc: 0.9729\n",
      "Checkpoint saved to classifier_checkpoint.pth\n",
      "Epoch [6] - Train Loss: 0.0685, Train Acc: 0.9805\n",
      "Epoch [6] - Val   Loss: 0.0861, Val   Acc: 0.9736\n",
      "Checkpoint saved to classifier_checkpoint.pth\n",
      "Epoch [7] - Train Loss: 0.0594, Train Acc: 0.9824\n",
      "Epoch [7] - Val   Loss: 0.0828, Val   Acc: 0.9734\n",
      "Checkpoint saved to classifier_checkpoint.pth\n",
      "Epoch [8] - Train Loss: 0.0525, Train Acc: 0.9847\n",
      "Epoch [8] - Val   Loss: 0.0804, Val   Acc: 0.9736\n",
      "Checkpoint saved to classifier_checkpoint.pth\n",
      "Epoch [9] - Train Loss: 0.0465, Train Acc: 0.9869\n",
      "Epoch [9] - Val   Loss: 0.0797, Val   Acc: 0.9754\n",
      "Checkpoint saved to classifier_checkpoint.pth\n",
      "Epoch [10] - Train Loss: 0.0414, Train Acc: 0.9879\n",
      "Epoch [10] - Val   Loss: 0.0789, Val   Acc: 0.9763\n",
      "Checkpoint saved to classifier_checkpoint.pth\n"
     ]
    }
   ],
   "source": [
    "trainer = ClassifierTrainer(\n",
    "    encoder=autoencoder_2.encoder,\n",
    "    classifier=classifier,\n",
    "    train_loader=train_loader,\n",
    "    val_loader=val_loader,\n",
    "    num_epochs=10,\n",
    "    save_path='classifier_checkpoint.pth'\n",
    ")\n",
    "trainer.train() "
   ]
  },
  {
   "cell_type": "code",
   "execution_count": null,
   "metadata": {},
   "outputs": [
    {
     "name": "stdout",
     "output_type": "stream",
     "text": [
      "Resuming training from checkpoint: classifier_checkpoint.pth\n",
      "Resumed at epoch 11\n",
      "Epoch [11] - Train Loss: 0.0366, Train Acc: 0.9893\n",
      "Epoch [11] - Val   Loss: 0.0828, Val   Acc: 0.9747\n",
      "Checkpoint saved to classifier_checkpoint.pth\n",
      "Epoch [12] - Train Loss: 0.0333, Train Acc: 0.9900\n",
      "Epoch [12] - Val   Loss: 0.0842, Val   Acc: 0.9746\n",
      "Checkpoint saved to classifier_checkpoint.pth\n",
      "Epoch [13] - Train Loss: 0.0302, Train Acc: 0.9911\n",
      "Epoch [13] - Val   Loss: 0.0825, Val   Acc: 0.9765\n",
      "Checkpoint saved to classifier_checkpoint.pth\n",
      "Epoch [14] - Train Loss: 0.0273, Train Acc: 0.9918\n",
      "Epoch [14] - Val   Loss: 0.0856, Val   Acc: 0.9757\n",
      "Checkpoint saved to classifier_checkpoint.pth\n",
      "Epoch [15] - Train Loss: 0.0243, Train Acc: 0.9927\n",
      "Epoch [15] - Val   Loss: 0.0888, Val   Acc: 0.9749\n",
      "Checkpoint saved to classifier_checkpoint.pth\n",
      "Epoch [16] - Train Loss: 0.0226, Train Acc: 0.9936\n",
      "Epoch [16] - Val   Loss: 0.0911, Val   Acc: 0.9754\n",
      "Checkpoint saved to classifier_checkpoint.pth\n",
      "Epoch [17] - Train Loss: 0.0202, Train Acc: 0.9944\n",
      "Epoch [17] - Val   Loss: 0.0888, Val   Acc: 0.9754\n",
      "Checkpoint saved to classifier_checkpoint.pth\n",
      "Epoch [18] - Train Loss: 0.0184, Train Acc: 0.9951\n",
      "Epoch [18] - Val   Loss: 0.0883, Val   Acc: 0.9759\n",
      "Checkpoint saved to classifier_checkpoint.pth\n",
      "Epoch [19] - Train Loss: 0.0168, Train Acc: 0.9952\n",
      "Epoch [19] - Val   Loss: 0.0930, Val   Acc: 0.9748\n",
      "Checkpoint saved to classifier_checkpoint.pth\n",
      "Epoch [20] - Train Loss: 0.0151, Train Acc: 0.9963\n",
      "Epoch [20] - Val   Loss: 0.0951, Val   Acc: 0.9746\n",
      "Checkpoint saved to classifier_checkpoint.pth\n"
     ]
    }
   ],
   "source": [
    "# Tried to train the classifier for 10 more epochs\n",
    "# but it seems that the classifier is already trained \n",
    "# and any further training mosly causes overfitting\n",
    "\n",
    "trainer2 = ClassifierTrainer(\n",
    "    encoder=autoencoder_2.encoder,\n",
    "    classifier=classifier,\n",
    "    train_loader=train_loader,\n",
    "    val_loader=val_loader,\n",
    "    num_epochs=10,                           # do 5 more epochs\n",
    "    save_path='classifier_checkpoint.pth',\n",
    "    resume_path='classifier_checkpoint.pth' # resume from last checkpoint\n",
    ")\n",
    "trainer2.train()"
   ]
  }
 ],
 "metadata": {
  "kernelspec": {
   "display_name": "Python 3 (ipykernel)",
   "language": "python",
   "name": "python3"
  },
  "language_info": {
   "codemirror_mode": {
    "name": "ipython",
    "version": 3
   },
   "file_extension": ".py",
   "mimetype": "text/x-python",
   "name": "python",
   "nbconvert_exporter": "python",
   "pygments_lexer": "ipython3",
   "version": "3.9.0"
  }
 },
 "nbformat": 4,
 "nbformat_minor": 2
}
