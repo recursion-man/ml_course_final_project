{
 "cells": [
  {
   "cell_type": "code",
   "execution_count": null,
   "metadata": {},
   "outputs": [],
   "source": [
    "import torch\n",
    "import os\n",
    "from torch.utils.data import DataLoader\n",
    "from torchvision import datasets, transforms\n",
    "import sys\n",
    "sys.path.append('..')\n",
    "\n",
    "from models.cifar_encoder_classifier import CIFAR10EncoderClassifier\n",
    "from trainers.encoder_classifier_trainer import EncoderClassifierTrainer\n",
    "import torch.backends.cudnn as cudnn\n",
    "import random\n",
    "import numpy as np\n",
    "\n",
    "seed = 42 \n",
    "\n",
    "random.seed(seed)\n",
    "np.random.seed(seed)\n",
    "torch.manual_seed(seed)\n",
    "if torch.cuda.is_available():\n",
    "    torch.cuda.manual_seed_all(seed)\n",
    "cudnn.deterministic = True\n",
    "cudnn.benchmark = False\n",
    "\n",
    "data_path = \"/datasets/cv_datasets/data\"\n",
    "train_transform = transforms.Compose([\n",
    "    transforms.RandomHorizontalFlip(),\n",
    "    transforms.RandomRotation(degrees=20),\n",
    "    transforms.RandomAffine(0, translate=(0.2, 0.2)),\n",
    "    transforms.ToTensor()\n",
    "])\n",
    "val_transform = transforms.ToTensor()\n",
    "\n",
    "train_dataset = datasets.CIFAR10(root=data_path, train=True, download=True, transform=train_transform)\n",
    "val_dataset = datasets.CIFAR10(root=data_path, train=False, download=True, transform=val_transform)\n",
    "train_loader = DataLoader(train_dataset, batch_size=128, shuffle=True)\n",
    "val_loader = DataLoader(val_dataset, batch_size=128, shuffle=False)\n",
    "model = CIFAR10EncoderClassifier(\n",
    "input_shape=(3, 32, 32),\n",
    "channels=[64, 128, 256], \n",
    "kernel_sizes=[3, 3, 3],\n",
    "strides=[2, 2, 2],\n",
    "paddings=[1, 1, 1],\n",
    "hidden_dims=[1024],\n",
    "dropout_conv=0.0,\n",
    "dropout_fc=0.1,\n",
    "batch_norm_fc=True,\n",
    "batch_norm_conv=True,\n",
    "latent_dim=128,\n",
    "num_classes=10\n",
    ")\n",
    "trainer = EncoderClassifierTrainer(\n",
    "    model=model,\n",
    "    train_loader=train_loader,\n",
    "    val_loader=val_loader,\n",
    "    device='cuda',\n",
    "    lr=5e-4,\n",
    "    num_epochs=60,\n",
    "    weight_decay=3e-5,\n",
    "    early_stopping=True,\n",
    "    patience=5\n",
    ")\n",
    "trainer.train()\n",
    "trainer.plot_metrics()"
   ]
  },
  {
   "cell_type": "code",
   "execution_count": null,
   "metadata": {},
   "outputs": [],
   "source": [
    "from utils import plot_tsne_classifier\n",
    "plot_tsne_classifier(model, val_loader, device='cuda')"
   ]
  }
 ],
 "metadata": {
  "kernelspec": {
   "display_name": "aes",
   "language": "python",
   "name": "python3"
  },
  "language_info": {
   "name": "python",
   "version": "3.9.0"
  }
 },
 "nbformat": 4,
 "nbformat_minor": 2
}
